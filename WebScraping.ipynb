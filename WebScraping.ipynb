{
  "nbformat": 4,
  "nbformat_minor": 0,
  "metadata": {
    "colab": {
      "provenance": [],
      "authorship_tag": "ABX9TyO1OoQXxZk8iMyHHd2Y+pHq",
      "include_colab_link": true
    },
    "kernelspec": {
      "name": "python3",
      "display_name": "Python 3"
    },
    "language_info": {
      "name": "python"
    }
  },
  "cells": [
    {
      "cell_type": "markdown",
      "metadata": {
        "id": "view-in-github",
        "colab_type": "text"
      },
      "source": [
        "<a href=\"https://colab.research.google.com/github/Leorlsa/WebScrapingFutebol/blob/main/WebScraping.ipynb\" target=\"_parent\"><img src=\"https://colab.research.google.com/assets/colab-badge.svg\" alt=\"Open In Colab\"/></a>"
      ]
    },
    {
      "cell_type": "code",
      "execution_count": 2,
      "metadata": {
        "id": "smuDtRc5-xRo"
      },
      "outputs": [],
      "source": [
        "import pandas as pd\n",
        "import numpy as np\n",
        "import requests\n",
        "from google.colab import data_table\n",
        "data_table.enable_dataframe_formatter()"
      ]
    },
    {
      "cell_type": "code",
      "source": [
        "#Informações para fingir ser um navegador\n",
        "header = {\n",
        "  \"User-Agent\": \"Mozilla/5.0 (X11; Linux x86_64) AppleWebKit/537.36 (KHTML, like Gecko) Chrome/50.0.2661.75 Safari/537.36\",\n",
        "  \"X-Requested-With\": \"XMLHttpRequest\"\n",
        "}\n",
        "\n",
        "#A url que você quer acesssar\n",
        "url_link1 = \"https://www.soccerstats.com/matches.asp?matchday=1&listing=1\"\n",
        "url_link2 = \"https://www.soccerstats.com/matches.asp?matchday=1&listing=2\"\n",
        "\n",
        "#juntamos tudo com a requests\n",
        "r1 = requests.get(url_link1, headers=header)\n",
        "r2 = requests.get(url_link2, headers=header)\n",
        "\n",
        "#E finalmente usamos a função read_html do pandas\n",
        "df1 = pd.read_html(r1.text)\n",
        "df2 = pd.read_html(r2.text)"
      ],
      "metadata": {
        "id": "2lGWwgf6D62M"
      },
      "execution_count": 28,
      "outputs": []
    },
    {
      "cell_type": "code",
      "source": [
        "len(df1)"
      ],
      "metadata": {
        "colab": {
          "base_uri": "https://localhost:8080/"
        },
        "id": "lRgPJ7XsGEs9",
        "outputId": "62f3c4c6-6a6b-4e9c-8ed8-0dbd4c9336a1"
      },
      "execution_count": null,
      "outputs": [
        {
          "output_type": "execute_result",
          "data": {
            "text/plain": [
              "15"
            ]
          },
          "metadata": {},
          "execution_count": 133
        }
      ]
    },
    {
      "cell_type": "code",
      "source": [
        "jogos_today1 = df1[6]\n",
        "jogos_today1 = jogos_today1[['Country','2.5+','1.5+','GA','GF','TG','PPG','Unnamed: 9','Unnamed: 10','Unnamed: 11','PPG.1','TG.1','GF.1','GA.1','1.5+.1','2.5+.1']]\n",
        "jogos_today1.columns = ['País','Acima De 2.5 Gols/Casa','Acima De 1.5 Gols/Casa','GolsSofridos_H','GolsMarcados_H','MediaGols_H','PPG_H','Casa','Hora','Fora','PPG_A','MediaGols_A','GolsMarcados_A','GolsSofridos_A','Acima De 1.5 Gols/Fora','Acima De 2.5 Gols/Fora']"
      ],
      "metadata": {
        "id": "KQVaPWTdH8d3"
      },
      "execution_count": 32,
      "outputs": []
    },
    {
      "cell_type": "code",
      "source": [
        "jogos_today2 = df2[6]\n",
        "jogos_today2 = jogos_today2[['BTS','W%','BTS.1','W%.1']]\n",
        "jogos_today2.columns = ['BTTS_Casa','%Vitorias_H','BTTS_Fora','%Vitorias_A']"
      ],
      "metadata": {
        "id": "U60X14xUIFiB"
      },
      "execution_count": 30,
      "outputs": []
    },
    {
      "cell_type": "code",
      "source": [
        "jogos_today = pd.concat([jogos_today1,jogos_today2],axis=1)\n",
        "jogos_today = jogos_today[['País','Casa','Hora','Fora','Acima De 1.5 Gols/Casa','Acima De 1.5 Gols/Fora','Acima De 2.5 Gols/Casa','Acima De 2.5 Gols/Fora','BTTS_Casa', \"BTTS_Fora\"]]"
      ],
      "metadata": {
        "id": "YWs4PDeLS8vm"
      },
      "execution_count": 33,
      "outputs": []
    },
    {
      "cell_type": "code",
      "source": [
        "jogos_today"
      ],
      "metadata": {
        "id": "NsnTu1ABUMPR"
      },
      "execution_count": null,
      "outputs": []
    },
    {
      "cell_type": "code",
      "source": [
        "jogos_today = jogos_today.sort_values('Hora')\n",
        "jogos_today['Hora'] = pd.to_datetime(jogos_today['Hora']) - pd.DateOffset(hours=4)\n",
        "jogos_today['Hora'] = pd.to_datetime(jogos_today['Hora'], format='%H:%M').dt.time\n",
        "jogos_today = jogos_today.dropna()\n",
        "# Resetando o Index\n",
        "jogos_today.reset_index(inplace=True, drop=True)\n",
        "jogos_today.index = jogos_today.index.set_names(['Nº'])\n",
        "jogos_today = jogos_today.rename(index=lambda x: x + 1)\n",
        "# Exportando para o Excel\n",
        "jogos_today.to_excel(\"Jogos de Hoje.xlsx\")"
      ],
      "metadata": {
        "id": "t2UL13eIT4e2"
      },
      "execution_count": 36,
      "outputs": []
    },
    {
      "cell_type": "code",
      "source": [
        "df = jogos_today\n",
        "df"
      ],
      "metadata": {
        "id": "Y74HGTGdUn03"
      },
      "execution_count": null,
      "outputs": []
    },
    {
      "cell_type": "markdown",
      "source": [
        "# ***Tabela Under Gols***"
      ],
      "metadata": {
        "id": "Lm3ZuoM37D2M"
      }
    },
    {
      "cell_type": "code",
      "source": [
        "jogos_under=pd.concat([jogos_today1,jogos_today2],axis=1)\n",
        "jogos_under = jogos_under[['País','Casa','Hora','Fora','Acima De 2.5 Gols/Casa','Acima De 2.5 Gols/Fora']]"
      ],
      "metadata": {
        "id": "IS0Z77-jftFG"
      },
      "execution_count": 38,
      "outputs": []
    },
    {
      "cell_type": "code",
      "source": [
        "jogos_under"
      ],
      "metadata": {
        "id": "iDBMDnNBgAwa"
      },
      "execution_count": null,
      "outputs": []
    },
    {
      "cell_type": "code",
      "source": [
        "jogos_under = jogos_under.sort_values('Hora')\n",
        "jogos_under['Hora'] = pd.to_datetime(jogos_under['Hora']) - pd.DateOffset(hours=4)\n",
        "jogos_under['Hora'] = pd.to_datetime(jogos_under['Hora'], format='%H:%M').dt.time\n",
        "jogos_under = jogos_under.dropna()\n",
        "# Resetando o Index\n",
        "jogos_under.reset_index(inplace=True, drop=True)\n",
        "jogos_under.index = jogos_under.index.set_names(['Nº'])\n",
        "jogos_under = jogos_under.rename(index=lambda x: x + 1)\n",
        "# Exportando para o Excel\n",
        "under = jogos_under"
      ],
      "metadata": {
        "id": "1_WeKseB5Gbx"
      },
      "execution_count": 25,
      "outputs": []
    },
    {
      "cell_type": "markdown",
      "source": [
        "# ***ESTRATÉGIA UNDER GOLS***"
      ],
      "metadata": {
        "id": "Bol7_fQ3el8g"
      }
    },
    {
      "cell_type": "code",
      "source": [
        "#Transforma em número float\n",
        "under['Acima De 2.5 Gols/Fora'] = under['Acima De 2.5 Gols/Fora'].astype(str).str.rstrip('%').astype(float)\n",
        "under['Acima De 2.5 Gols/Casa'] = under['Acima De 2.5 Gols/Casa'].astype(str).str.rstrip('%').astype(float)\n",
        "flt = (under['Acima De 2.5 Gols/Fora'] <40) & (under['Acima De 2.5 Gols/Casa'] < 40)\n",
        "df1= under[flt]\n",
        "df1\n",
        "df1.to_excel(\"JogosUnder.xlsx\")"
      ],
      "metadata": {
        "id": "9x8EsmsZXld_"
      },
      "execution_count": 53,
      "outputs": []
    },
    {
      "cell_type": "markdown",
      "source": [
        "# ***Tabela Over Gols***"
      ],
      "metadata": {
        "id": "v137rejw7wsz"
      }
    },
    {
      "cell_type": "code",
      "source": [
        "jogos_over=pd.concat([jogos_today1,jogos_today2],axis=1)\n",
        "jogos_over = jogos_over[['País','Casa','Hora','Fora','Acima De 1.5 Gols/Casa','Acima De 1.5 Gols/Fora']]"
      ],
      "metadata": {
        "id": "chqzRAGh702x"
      },
      "execution_count": 55,
      "outputs": []
    },
    {
      "cell_type": "code",
      "source": [
        "jogos_over"
      ],
      "metadata": {
        "id": "a0GGm3EG9UOj"
      },
      "execution_count": null,
      "outputs": []
    },
    {
      "cell_type": "code",
      "source": [
        "jogos_over = jogos_over.sort_values('Hora')\n",
        "jogos_over['Hora'] = pd.to_datetime(jogos_over['Hora']) - pd.DateOffset(hours=4)\n",
        "jogos_over['Hora'] = pd.to_datetime(jogos_over['Hora'], format='%H:%M').dt.time\n",
        "jogos_over = jogos_over.dropna()\n",
        "# Resetando o Index\n",
        "jogos_over.reset_index(inplace=True, drop=True)\n",
        "jogos_over.index = jogos_over.index.set_names(['Nº'])\n",
        "jogos_over = jogos_over.rename(index=lambda x: x + 1)\n",
        "# Exportando para o Excel\n",
        "over = jogos_over"
      ],
      "metadata": {
        "id": "fY7n9u5C9Zcc"
      },
      "execution_count": 56,
      "outputs": []
    },
    {
      "cell_type": "markdown",
      "source": [
        "# ***ESTRATÉGIA OVER GOLS***"
      ],
      "metadata": {
        "id": "HemG7kXEkhH7"
      }
    },
    {
      "cell_type": "code",
      "source": [
        "#Transforma em número float\n",
        "over['Acima De 1.5 Gols/Casa'] = over['Acima De 1.5 Gols/Casa'].astype(str).str.rstrip('%').astype(float)\n",
        "over['Acima De 1.5 Gols/Casa'] = over['Acima De 1.5 Gols/Casa'].astype(str).str.rstrip('%').astype(float)\n",
        "flt = (over['Acima De 1.5 Gols/Casa'] >80) & (over['Acima De 1.5 Gols/Casa'] > 80)\n",
        "df1= over[flt]\n",
        "df1\n",
        "df1.to_excel(\"JogosOver15.xlsx\")"
      ],
      "metadata": {
        "id": "6iJZLEw9dLDK"
      },
      "execution_count": 57,
      "outputs": []
    },
    {
      "cell_type": "markdown",
      "source": [
        "# ***TABELA AMBAS MARCAM***"
      ],
      "metadata": {
        "id": "WZyZIJq3_KO1"
      }
    },
    {
      "cell_type": "code",
      "source": [
        "ambas=pd.concat([jogos_today1,jogos_today2],axis=1)\n",
        "ambas = ambas[['País','Casa','Hora','Fora','BTTS_Casa','BTTS_Fora']]"
      ],
      "metadata": {
        "id": "iDu7Zx1Z_Q9P"
      },
      "execution_count": 60,
      "outputs": []
    },
    {
      "cell_type": "code",
      "source": [
        "ambas"
      ],
      "metadata": {
        "id": "McX1hYLn_b5a"
      },
      "execution_count": null,
      "outputs": []
    },
    {
      "cell_type": "code",
      "source": [
        "ambas = ambas.sort_values('Hora')\n",
        "ambas['Hora'] = pd.to_datetime(ambas['Hora']) - pd.DateOffset(hours=4)\n",
        "ambas['Hora'] = pd.to_datetime(ambas['Hora'], format='%H:%M').dt.time\n",
        "ambas = ambas.dropna()\n",
        "# Resetando o Index\n",
        "ambas.reset_index(inplace=True, drop=True)\n",
        "ambas.index = ambas.index.set_names(['Nº'])\n",
        "ambas = ambas.rename(index=lambda x: x + 1)\n",
        "# Exportando para o Excel\n",
        "btts = ambas"
      ],
      "metadata": {
        "id": "5ER_H7eb_iB6"
      },
      "execution_count": 62,
      "outputs": []
    },
    {
      "cell_type": "markdown",
      "source": [
        "# ***ESTATÉGIA AMBAS MARCAM***"
      ],
      "metadata": {
        "id": "3pbqQiqs0wzL"
      }
    },
    {
      "cell_type": "code",
      "source": [
        "btts['BTTS_Casa'] = btts['BTTS_Casa'].astype(str).str.rstrip('%').astype(float)\n",
        "btts['BTTS_Fora'] = btts['BTTS_Fora'].astype(str).str.rstrip('%').astype(float)\n",
        "flt = (btts['BTTS_Casa'] >65) & (btts['BTTS_Fora'] > 65)\n",
        "df1= btts[flt]\n",
        "df1\n",
        "df1.to_excel(\"JogosAmbasMarcam.xlsx\")"
      ],
      "metadata": {
        "id": "PiITR2x50qNY"
      },
      "execution_count": 64,
      "outputs": []
    }
  ]
}